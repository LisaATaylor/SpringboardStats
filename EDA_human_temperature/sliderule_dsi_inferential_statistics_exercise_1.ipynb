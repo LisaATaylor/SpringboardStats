{
 "cells": [
  {
   "cell_type": "markdown",
   "metadata": {},
   "source": [
    "# What is the True Normal Human Body Temperature? \n",
    "\n",
    "#### Background\n",
    "\n",
    "The mean normal body temperature was held to be 37$^{\\circ}$C or 98.6$^{\\circ}$F for more than 120 years since it was first conceptualized and reported by Carl Wunderlich in a famous 1868 book. But, is this value statistically correct?"
   ]
  },
  {
   "cell_type": "markdown",
   "metadata": {},
   "source": [
    "<h3>Exercises</h3>\n",
    "\n",
    "<p>In this exercise, you will analyze a dataset of human body temperatures and employ the concepts of hypothesis testing, confidence intervals, and statistical significance.</p>\n",
    "\n",
    "<p>Answer the following questions <b>in this notebook below and submit to your Github account</b>.</p> \n",
    "\n",
    "<ol>\n",
    "<li>  Is the distribution of body temperatures normal? \n",
    "    <ul>\n",
    "    <li> Although this is not a requirement for the Central Limit Theorem to hold (read the introduction on Wikipedia's page about the CLT carefully: https://en.wikipedia.org/wiki/Central_limit_theorem), it gives us some peace of mind that the population may also be normally distributed if we assume that this sample is representative of the population.\n",
    "    <li> Think about the way you're going to check for the normality of the distribution. Graphical methods are usually used first, but there are also other ways: https://en.wikipedia.org/wiki/Normality_test\n",
    "    </ul>\n",
    "<li>  Is the sample size large? Are the observations independent?\n",
    "    <ul>\n",
    "    <li> Remember that this is a condition for the Central Limit Theorem, and hence the statistical tests we are using, to apply.\n",
    "    </ul>\n",
    "<li>  Is the true population mean really 98.6 degrees F?\n",
    "    <ul>\n",
    "    <li> First, try a bootstrap hypothesis test.\n",
    "    <li> Now, let's try frequentist statistical testing. Would you use a one-sample or two-sample test? Why?\n",
    "    <li> In this situation, is it appropriate to use the $t$ or $z$ statistic? \n",
    "    <li> Now try using the other test. How is the result be different? Why?\n",
    "    </ul>\n",
    "<li>  Draw a small sample of size 10 from the data and repeat both frequentist tests. \n",
    "    <ul>\n",
    "    <li> Which one is the correct one to use? \n",
    "    <li> What do you notice? What does this tell you about the difference in application of the $t$ and $z$ statistic?\n",
    "    </ul>\n",
    "<li>  At what temperature should we consider someone's temperature to be \"abnormal\"?\n",
    "    <ul>\n",
    "    <li> As in the previous example, try calculating everything using the boostrap approach, as well as the frequentist approach.\n",
    "    <li> Start by computing the margin of error and confidence interval. When calculating the confidence interval, keep in mind that you should use the appropriate formula for one draw, and not N draws.\n",
    "    </ul>\n",
    "<li>  Is there a significant difference between males and females in normal temperature?\n",
    "    <ul>\n",
    "    <li> What testing approach did you use and why?\n",
    "    <li> Write a story with your conclusion in the context of the original problem.\n",
    "    </ul>\n",
    "</ol>\n",
    "\n",
    "You can include written notes in notebook cells using Markdown: \n",
    "   - In the control panel at the top, choose Cell > Cell Type > Markdown\n",
    "   - Markdown syntax: http://nestacms.com/docs/creating-content/markdown-cheat-sheet\n",
    "\n",
    "#### Resources\n",
    "\n",
    "+ Information and data sources: http://www.amstat.org/publications/jse/datasets/normtemp.txt, http://www.amstat.org/publications/jse/jse_data_archive.htm\n",
    "+ Markdown syntax: http://nestacms.com/docs/creating-content/markdown-cheat-sheet\n",
    "\n",
    "****"
   ]
  },
  {
   "cell_type": "markdown",
   "metadata": {},
   "source": [
    "***"
   ]
  },
  {
   "cell_type": "markdown",
   "metadata": {},
   "source": [
    "## Setup"
   ]
  },
  {
   "cell_type": "code",
   "execution_count": 19,
   "metadata": {},
   "outputs": [],
   "source": [
    "import pandas as pd\n",
    "import numpy as np\n",
    "import matplotlib.pyplot as plt\n",
    "import seaborn as sns\n",
    "from scipy import stats"
   ]
  },
  {
   "cell_type": "code",
   "execution_count": 20,
   "metadata": {},
   "outputs": [
    {
     "data": {
      "text/html": [
       "<div>\n",
       "<style scoped>\n",
       "    .dataframe tbody tr th:only-of-type {\n",
       "        vertical-align: middle;\n",
       "    }\n",
       "\n",
       "    .dataframe tbody tr th {\n",
       "        vertical-align: top;\n",
       "    }\n",
       "\n",
       "    .dataframe thead th {\n",
       "        text-align: right;\n",
       "    }\n",
       "</style>\n",
       "<table border=\"1\" class=\"dataframe\">\n",
       "  <thead>\n",
       "    <tr style=\"text-align: right;\">\n",
       "      <th></th>\n",
       "      <th>temperature</th>\n",
       "      <th>gender</th>\n",
       "      <th>heart_rate</th>\n",
       "    </tr>\n",
       "  </thead>\n",
       "  <tbody>\n",
       "    <tr>\n",
       "      <th>0</th>\n",
       "      <td>99.3</td>\n",
       "      <td>F</td>\n",
       "      <td>68.0</td>\n",
       "    </tr>\n",
       "    <tr>\n",
       "      <th>1</th>\n",
       "      <td>98.4</td>\n",
       "      <td>F</td>\n",
       "      <td>81.0</td>\n",
       "    </tr>\n",
       "    <tr>\n",
       "      <th>2</th>\n",
       "      <td>97.8</td>\n",
       "      <td>M</td>\n",
       "      <td>73.0</td>\n",
       "    </tr>\n",
       "    <tr>\n",
       "      <th>3</th>\n",
       "      <td>99.2</td>\n",
       "      <td>F</td>\n",
       "      <td>66.0</td>\n",
       "    </tr>\n",
       "    <tr>\n",
       "      <th>4</th>\n",
       "      <td>98.0</td>\n",
       "      <td>F</td>\n",
       "      <td>73.0</td>\n",
       "    </tr>\n",
       "  </tbody>\n",
       "</table>\n",
       "</div>"
      ],
      "text/plain": [
       "   temperature gender  heart_rate\n",
       "0         99.3      F        68.0\n",
       "1         98.4      F        81.0\n",
       "2         97.8      M        73.0\n",
       "3         99.2      F        66.0\n",
       "4         98.0      F        73.0"
      ]
     },
     "execution_count": 20,
     "metadata": {},
     "output_type": "execute_result"
    }
   ],
   "source": [
    "df = pd.read_csv('data/human_body_temperature.csv')\n",
    "df.head()"
   ]
  },
  {
   "cell_type": "markdown",
   "metadata": {},
   "source": [
    "***"
   ]
  },
  {
   "cell_type": "markdown",
   "metadata": {},
   "source": [
    "## Question 1) Is temperature normally distributed?\n",
    "Approach:\n",
    "* Apply statistical tests for normality \n",
    "* Use EDA to inspect plots for visual evidence of normality"
   ]
  },
  {
   "cell_type": "code",
   "execution_count": 21,
   "metadata": {},
   "outputs": [
    {
     "name": "stdout",
     "output_type": "stream",
     "text": [
      "Wilks Shapiro p: 0.233174666762352\n",
      "D'Agostino p: 0.2587479863488254\n"
     ]
    }
   ],
   "source": [
    "#Wilks shapiro test\n",
    "w,p=stats.shapiro(df['temperature'])\n",
    "print('Wilks Shapiro p: '+str(p)) \n",
    "\n",
    "#D'Agostino test\n",
    "w,p=stats.normaltest(df['temperature'])\n",
    "print('D\\'Agostino p: '+str(p)) "
   ]
  },
  {
   "cell_type": "markdown",
   "metadata": {},
   "source": [
    "_Result:  P-value of both tests >0.05 so we don't reject Ho (population is normal).  Population is likely to be normal._"
   ]
  },
  {
   "cell_type": "code",
   "execution_count": 22,
   "metadata": {},
   "outputs": [
    {
     "data": {
      "image/png": "[encoded data removed]",
      "text/plain": [
       "<Figure size 1080x1080 with 3 Axes>"
      ]
     },
     "metadata": {
      "needs_background": "light"
     },
     "output_type": "display_data"
    }
   ],
   "source": [
    "#Visual test\n",
    "#Generate plots to visually evaluate if population is normal\n",
    "fig,ax=plt.subplots(3,1,figsize=(15,15))\n",
    "\n",
    "# Plot 1: Histogram\n",
    "ax[0].hist(df['temperature'],bins=100);\n",
    "ax[0].set_title('Histogram of Temperature')\n",
    "ax[0].set_xlabel('Temperature')\n",
    "ax[0].set_ylabel('Frequency')\n",
    "ax[0].set_xlim([96,101])\n",
    "\n",
    "# Plot 2: CDF - using data and theoretical distribution using mean and std of dataset\n",
    "def ecdf(arr):\n",
    "    y=np.linspace(0,1,len(arr))\n",
    "    x=np.sort(arr)\n",
    "    return(x,y)\n",
    "\n",
    "x,y=ecdf(df['temperature'])\n",
    "norm_array=np.random.normal(df['temperature'].mean(),df['temperature'].std(), 1000)\n",
    "xn,yn=ecdf(norm_array)\n",
    "ax[1].plot(x,y)\n",
    "ax[1].plot(xn,yn)\n",
    "ax[1].set_title('ECDF of Temperature Distribution')\n",
    "ax[1].set_xlabel('Temperature')\n",
    "ax[1].set_ylabel('CDF')\n",
    "ax[1].set_xlim([96,101])\n",
    "\n",
    "# Plot 3: QQ plot\n",
    "stats.probplot(df['temperature'], dist='norm',plot=sns.mpl.pyplot);"
   ]
  },
  {
   "cell_type": "markdown",
   "metadata": {},
   "source": [
    "_Result:  The plots suggest the temperature dataset comes from a normal distribution, with slight deviation from normal at the upper and lower tails._"
   ]
  },
  {
   "cell_type": "markdown",
   "metadata": {},
   "source": [
    "***"
   ]
  },
  {
   "cell_type": "markdown",
   "metadata": {},
   "source": [
    "## Question 2)  Is sample size large?  Are observations independent?\n",
    "Approach:  Count samples.\n",
    "* For the CLT to be valid, we need at least 30 samples.  \n",
    "* For the observations to be considered independent when sampled without replacement, we need sample size to be <10% of population."
   ]
  },
  {
   "cell_type": "code",
   "execution_count": 23,
   "metadata": {},
   "outputs": [
    {
     "name": "stdout",
     "output_type": "stream",
     "text": [
      "Sample size is 130\n"
     ]
    }
   ],
   "source": [
    "n = df.shape[0]\n",
    "print('Sample size is '+str(n))"
   ]
  },
  {
   "cell_type": "markdown",
   "metadata": {},
   "source": [
    "_Result:  The dataset exceeds the data size minimum requirement for the CLT to be valid and can be considered large enough for these evaluations.  Also, if we assume the sample size is a sample of human temperature from the entire world population, then this sample size is far less than <10% of the population and can be considered to be composed of independent observations._"
   ]
  },
  {
   "cell_type": "markdown",
   "metadata": {},
   "source": [
    "***"
   ]
  },
  {
   "cell_type": "markdown",
   "metadata": {},
   "source": [
    "## Question 3)  Is the population mean really 98.6?\n",
    "Approach:\n",
    "* We will test whether our data set supports a population mean of 98.6\n",
    "* Assume the null hypothesis that the sample mean is 98.6\n",
    "* Perform hypothesis tests:\n",
    "    1. Perform a bootstrap hypothesis test by shifting the mean of sample dataset to 98.6, then finding the proportion of replicate means as far away from 98.6 as the observed mean.\n",
    "    2. Perform hypothesis testing of the null hypothesis using frequentist approaches (i.e. z- and t- tests)    "
   ]
  },
  {
   "cell_type": "code",
   "execution_count": 24,
   "metadata": {},
   "outputs": [
    {
     "name": "stdout",
     "output_type": "stream",
     "text": [
      "98.24923076923078\n"
     ]
    }
   ],
   "source": [
    "# What is the sample mean of the temperature dataset?\n",
    "x_bar=df['temperature'].mean()\n",
    "print(x_bar)"
   ]
  },
  {
   "cell_type": "code",
   "execution_count": 84,
   "metadata": {},
   "outputs": [
    {
     "name": "stdout",
     "output_type": "stream",
     "text": [
      "fraction of replicates with difference in means <= observed difference:\n",
      "0.0\n"
     ]
    }
   ],
   "source": [
    "# Perform bootstrap hypothesis test, non-parametric (doesn't assume data is normally distributed)\n",
    "# test statistic is difference from 98.6\n",
    "obs_diff=x_bar-98.6\n",
    "\n",
    "# shift dataset so mean is centered on 98.6 (null hypothesis)\n",
    "df['shifted'] = df['temperature'] - x_bar + 98.6\n",
    "\n",
    "\n",
    "#collect many bootstrap replicates from the shifted dataset\n",
    "bsn=10000\n",
    "reps=np.empty(bsn)\n",
    "for r in range(bsn):\n",
    "    bss=df['shifted'].sample(n=df.shape[0],replace=True)\n",
    "    reps[r]=bss.mean() - 98.6 #tabulate difference between replicate and 98.6\n",
    "\n",
    "# what percentage of the replicates have mean as far away from 98.6 as mean of original dataset?\n",
    "print('fraction of replicates with difference in means <= observed difference:')\n",
    "print(np.sum(reps<=obs_diff)/bsn)"
   ]
  },
  {
   "cell_type": "markdown",
   "metadata": {},
   "source": [
    "_None of the bootstrap replicates were as low as the sample mean.  We reject Ho and conclude the sample does not come from distribution with mean 98.6._"
   ]
  },
  {
   "cell_type": "markdown",
   "metadata": {},
   "source": [
    "_Try frequentist approach.  It is more appropriate to use the t-test here since we don't know population standard deviation._"
   ]
  },
  {
   "cell_type": "code",
   "execution_count": 35,
   "metadata": {},
   "outputs": [
    {
     "name": "stdout",
     "output_type": "stream",
     "text": [
      "Result of t-test:  \n",
      "p=2.4106320415609943e-07 < 0.05, reject null hypothesis\n"
     ]
    }
   ],
   "source": [
    "#2-sided t-test function\n",
    "def t_test_2side(arr,testval,alpha):\n",
    "    n=len(arr)\n",
    "    t=np.abs(np.mean(arr)-testval)/(np.std(arr,ddof=1)/np.sqrt(n)) #look at magnitude of delta.  Use sample st dev to calculate SEM.\n",
    "    p = stats.t.cdf(0-t,n-1) #p value for left tail\n",
    "\n",
    "    print('Result of t-test:  ')\n",
    "    if p*2<alpha:\n",
    "        print('p={} < {}, reject null hypothesis'.format(2*p,alpha))\n",
    "    else:\n",
    "        print('p={}, fail to reject null hypothesis.'.format(2*p))\n",
    "\n",
    "t_test_2side(df['temperature'],98.6,0.05)"
   ]
  },
  {
   "cell_type": "code",
   "execution_count": 28,
   "metadata": {},
   "outputs": [
    {
     "data": {
      "text/plain": [
       "Ttest_1sampResult(statistic=-5.4548232923645195, pvalue=2.4106320415561276e-07)"
      ]
     },
     "execution_count": 28,
     "metadata": {},
     "output_type": "execute_result"
    }
   ],
   "source": [
    "#check\n",
    "stats.ttest_1samp(df['temperature'],98.6)"
   ]
  },
  {
   "cell_type": "markdown",
   "metadata": {},
   "source": [
    "_Result suggests it is unlikely that our sample mean would have been obtained from a population with a mean of 98.6 by chance._\n",
    "\n",
    "Try z-test:"
   ]
  },
  {
   "cell_type": "code",
   "execution_count": 36,
   "metadata": {},
   "outputs": [
    {
     "name": "stdout",
     "output_type": "stream",
     "text": [
      "Result of z-test:  \n",
      "p=2.45107850705669e-08 < 0.05, reject null hypothesis\n"
     ]
    }
   ],
   "source": [
    "#2-sided z-test function \n",
    "def z_test_2side(arr,testval,alpha):\n",
    "    n=len(arr)\n",
    "    z=np.abs(np.mean(arr)-testval)/(np.std(arr,ddof=1)/np.sqrt(n)) \n",
    "    p = stats.norm.cdf(0-z) #p value for left tail\n",
    "    print('Result of z-test:  ')\n",
    "    if p*2<alpha:\n",
    "        print('p={} < {}, reject null hypothesis'.format(2*p,alpha))\n",
    "    else:\n",
    "        print('p={}, fail to reject null hypothesis.'.format(2*p))\n",
    "\n",
    "z_test_2side(df['temperature'],98.6,0.05)"
   ]
  },
  {
   "cell_type": "markdown",
   "metadata": {},
   "source": [
    "_Result:  The results of the z- and t-tests are similar and indicate we can reject the null hypothesis that the sample mean is 98.6.  This outcome suggests the true population mean may not be 98.6.  The p-value from the z-test is lower than that of the t-test:  since the t-distribution has \"fatter tails\" than the normal distribution, we expect a higher likelihood of extreme results, and thus a higher probability of observing extreme results (i.e. higher p) than under the z-test.  The very low p values from both the z- and t-tests are consistent with result of the bootstrap approach._"
   ]
  },
  {
   "cell_type": "markdown",
   "metadata": {},
   "source": [
    "***"
   ]
  },
  {
   "cell_type": "markdown",
   "metadata": {},
   "source": [
    "## Question 4) Repeat with small sample size\n",
    "Approach:\n",
    "* Collect random samples of 10 values from the temperature dataset.\n",
    "* It is appropriate to perform a t-test here due to the small sample size (10), but will do both z- and t-tests.  "
   ]
  },
  {
   "cell_type": "code",
   "execution_count": 60,
   "metadata": {
    "scrolled": true
   },
   "outputs": [
    {
     "name": "stdout",
     "output_type": "stream",
     "text": [
      "Trial 0\n",
      "95% confidence interval of mean (using t-stat): [98.09774638 98.92225362]\n",
      "Result of t-test:  \n",
      "p=0.6332355463791843, fail to reject null hypothesis.\n",
      "Result of z-test:  \n",
      "p=0.3107037507673026, fail to reject null hypothesis.\n",
      "Trial 1\n",
      "95% confidence interval of mean (using t-stat): [97.83229577 98.58770423]\n",
      "Result of t-test:  \n",
      "p=0.04432417206459699 < 0.05, reject null hypothesis\n",
      "Result of z-test:  \n",
      "p=0.0097508510632237 < 0.05, reject null hypothesis\n",
      "Trial 2\n",
      "95% confidence interval of mean (using t-stat): [97.87855048 98.96144952]\n",
      "Result of t-test:  \n",
      "p=0.4712397869667845, fail to reject null hypothesis.\n",
      "Result of z-test:  \n",
      "p=0.22601539489794714, fail to reject null hypothesis.\n",
      "Trial 3\n",
      "95% confidence interval of mean (using t-stat): [97.77575979 98.74424021]\n",
      "Result of t-test:  \n",
      "p=0.14667428677702943, fail to reject null hypothesis.\n",
      "Result of z-test:  \n",
      "p=0.05610582532182456, fail to reject null hypothesis.\n",
      "Trial 4\n",
      "95% confidence interval of mean (using t-stat): [97.41583562 98.52416438]\n",
      "Result of t-test:  \n",
      "p=0.03010243465138604 < 0.05, reject null hypothesis\n",
      "Result of z-test:  \n",
      "p=0.0050596454839054875 < 0.05, reject null hypothesis\n",
      "Trial 5\n",
      "95% confidence interval of mean (using t-stat): [97.64186863 98.63813137]\n",
      "Result of t-test:  \n",
      "p=0.06629165523733943, fail to reject null hypothesis.\n",
      "Result of z-test:  \n",
      "p=0.018354234943835566 < 0.05, reject null hypothesis\n",
      "Trial 6\n",
      "95% confidence interval of mean (using t-stat): [97.61867391 98.68132609]\n",
      "Result of t-test:  \n",
      "p=0.08762921324013502, fail to reject null hypothesis.\n",
      "Result of z-test:  \n",
      "p=0.027688546384190705, fail to reject null hypothesis.\n",
      "Trial 7\n",
      "95% confidence interval of mean (using t-stat): [97.6859967 98.3940033]\n",
      "Result of t-test:  \n",
      "p=0.005944489402762307 < 0.05, reject null hypothesis\n",
      "Result of z-test:  \n",
      "p=0.0001727725087848772 < 0.05, reject null hypothesis\n",
      "Trial 8\n",
      "95% confidence interval of mean (using t-stat): [97.63164312 98.88835688]\n",
      "Result of t-test:  \n",
      "p=0.2520129694485332, fail to reject null hypothesis.\n",
      "Result of z-test:  \n",
      "p=0.11046872576167588, fail to reject null hypothesis.\n",
      "Trial 9\n",
      "95% confidence interval of mean (using t-stat): [97.22960656 98.71039344]\n",
      "Result of t-test:  \n",
      "p=0.08638026002569561, fail to reject null hypothesis.\n",
      "Result of z-test:  \n",
      "p=0.027122989743017054, fail to reject null hypothesis.\n"
     ]
    }
   ],
   "source": [
    "ns=10\n",
    "dof=9\n",
    "tc=stats.t.ppf([0.025,0.975],dof)\n",
    "#resample sample distribution 10 times with a sample size of 10, then run t-test and z-test for each sample\n",
    "#assume each small sample is collected without knowing the standard error of the full 130-count sample. \n",
    "for g in range(10):\n",
    "    print('Trial '+str(g))\n",
    "    temp_s=df['temperature'].sample(ns)\n",
    "    \n",
    "    #Confidence interval assuming t-distribution\n",
    "    sem = np.std(temp_s,ddof=1)/np.sqrt(ns)\n",
    "    ci=np.mean(temp_s)+tc*sem\n",
    "    print(\"95% confidence interval of mean (using t-stat): \"+str(ci))\n",
    "    \n",
    "    #tests\n",
    "    t_test_2side(temp_s,98.6,0.05)\n",
    "    z_test_2side(temp_s,98.6,0.05)\n"
   ]
  },
  {
   "cell_type": "markdown",
   "metadata": {},
   "source": [
    "_After running the test on 10 different 10-item samples from the dataset, we see a variety of outcomes from the z- and t- tests.  The results are generally consistent between z and t, but not repeatable between tests.  The small sample size has violated the requirements of the central limit theorem (n>30) and reduced our ability to reliably reject Ho.  The reduced sample size widens the range of the 95% confidence interval, so there is more likelihood that a confidence interval calculated on the sampling distribution will include 98.6.  There is more variation between summary stats taken from these small datasets, and an increase in SEM, so we see more noise in the test and a reduced ability to make consistent predictions._"
   ]
  },
  {
   "cell_type": "markdown",
   "metadata": {},
   "source": [
    "## Question 5) At what temperature should we consider someone's temperature to be \"abnormal\"?\n",
    "Assume we are classifying \"abnormal\" as being outside the 95% confidence interval of average temperature for the entire human population.  Use sample standard deviation to estimate population standard deviation and compute 95% confidence interval of the mean.\n",
    "\n"
   ]
  },
  {
   "cell_type": "code",
   "execution_count": 79,
   "metadata": {},
   "outputs": [
    {
     "name": "stdout",
     "output_type": "stream",
     "text": [
      "Normal temperatures range between 98.12 and 98.38\n"
     ]
    }
   ],
   "source": [
    "# Margin of error and confidence interval:\n",
    "z=stats.norm.ppf(0.025) # z value for 95% confidence\n",
    "\n",
    "# Since we are looking at the confidence interval of the population mean, not the sample mean, we use an estimate for \n",
    "# population standard deviation to compute the margin of error\n",
    "\n",
    "moe = np.abs(z*np.std(df['temperature'],ddof=1)/np.sqrt(n)) #ddof divides by n-1 instead of n\n",
    "\n",
    "ci=[np.mean(df['temperature'])-moe,np.mean(df['temperature'])+moe]\n",
    "print('Normal temperatures range between {0:.2f} and {1:.2f}'.format(ci[0],ci[1]))\n"
   ]
  },
  {
   "cell_type": "code",
   "execution_count": 76,
   "metadata": {},
   "outputs": [
    {
     "name": "stdout",
     "output_type": "stream",
     "text": [
      "Using bootstrap estimate of SEM, normal temperatures range between 98.12 and 98.38\n",
      "Using 2.5% and 97.5% percentiles of bootstrap replicates, normal temperatures range between 98.13 and 98.38\n"
     ]
    }
   ],
   "source": [
    "# Bootstrap approach:\n",
    "# Generate a distribution of replicates (mean of bootstrap samples)\n",
    "# The Sd of this distribution ~ SEM of sampling distribution\n",
    "\n",
    "bsn=1000\n",
    "reps=np.empty(bsn)\n",
    "for r in range(bsn):\n",
    "    bss=df['temperature'].sample(n=df.shape[0],replace=True)\n",
    "    reps[r]=bss.mean() \n",
    "\n",
    "sem = np.std(reps)\n",
    "#psd = sem*np.sqrt(df['temperature'].shape[0])\n",
    "#bmoe = np.abs(z*psd)\n",
    "bmoe = np.abs(z*sem)\n",
    "\n",
    "bci=[np.mean(df['temperature'])-bmoe,np.mean(df['temperature'])+bmoe]\n",
    "print('Using bootstrap estimate of SEM, normal temperatures range between {0:.2f} and {1:.2f}'.format(bci[0],bci[1]))\n",
    "\n",
    "perc=np.percentile(reps,[2.5,97.5])\n",
    "print('Using 2.5% and 97.5% percentiles of bootstrap replicates, normal temperatures range between {0:.2f} and {1:.2f}'.format(perc[0],perc[1]))"
   ]
  },
  {
   "cell_type": "markdown",
   "metadata": {},
   "source": [
    "_Whoa - amazing! Bootstrap produces a very similar result to the z-score!_  "
   ]
  },
  {
   "cell_type": "markdown",
   "metadata": {},
   "source": [
    "***"
   ]
  },
  {
   "cell_type": "markdown",
   "metadata": {},
   "source": [
    "## Question 6) Is there a significant difference between males and females in normal temperature?\n",
    "Approach: \n",
    "* EDA\n",
    "* Bootstrapping\n"
   ]
  },
  {
   "cell_type": "code",
   "execution_count": 14,
   "metadata": {},
   "outputs": [
    {
     "data": {
      "text/html": [
       "<div>\n",
       "<style scoped>\n",
       "    .dataframe tbody tr th:only-of-type {\n",
       "        vertical-align: middle;\n",
       "    }\n",
       "\n",
       "    .dataframe tbody tr th {\n",
       "        vertical-align: top;\n",
       "    }\n",
       "\n",
       "    .dataframe thead th {\n",
       "        text-align: right;\n",
       "    }\n",
       "</style>\n",
       "<table border=\"1\" class=\"dataframe\">\n",
       "  <thead>\n",
       "    <tr style=\"text-align: right;\">\n",
       "      <th></th>\n",
       "      <th>mean</th>\n",
       "      <th>std</th>\n",
       "    </tr>\n",
       "    <tr>\n",
       "      <th>gender</th>\n",
       "      <th></th>\n",
       "      <th></th>\n",
       "    </tr>\n",
       "  </thead>\n",
       "  <tbody>\n",
       "    <tr>\n",
       "      <th>F</th>\n",
       "      <td>98.393846</td>\n",
       "      <td>0.743488</td>\n",
       "    </tr>\n",
       "    <tr>\n",
       "      <th>M</th>\n",
       "      <td>98.104615</td>\n",
       "      <td>0.698756</td>\n",
       "    </tr>\n",
       "  </tbody>\n",
       "</table>\n",
       "</div>"
      ],
      "text/plain": [
       "             mean       std\n",
       "gender                     \n",
       "F       98.393846  0.743488\n",
       "M       98.104615  0.698756"
      ]
     },
     "execution_count": 14,
     "metadata": {},
     "output_type": "execute_result"
    },
    {
     "data": {
      "image/png": "[encoded data removed]",
      "text/plain": [
       "<Figure size 1080x432 with 2 Axes>"
      ]
     },
     "metadata": {
      "needs_background": "light"
     },
     "output_type": "display_data"
    }
   ],
   "source": [
    "# Use EDA to get a visual sense of the difference between the male and female samples.\n",
    "\n",
    "def ecdf(arr):\n",
    "    y=np.linspace(0,1,len(arr))\n",
    "    x=np.sort(arr)\n",
    "    return(x,y)\n",
    "fix,axs=plt.subplots(1,2,figsize=[15,6])\n",
    "sns.boxplot(x='gender',y='temperature',data=df,ax=axs[0])\n",
    "\n",
    "mtemps=df.loc[df['gender']=='M','temperature'].values\n",
    "ftemps=df.loc[df['gender']=='F','temperature'].values\n",
    "\n",
    "xm,ym=ecdf(mtemps)\n",
    "xf,yf=ecdf(ftemps)\n",
    "axs[1].plot(xm,ym,label='M')\n",
    "axs[1].plot(xf,yf,color='r',label='F')\n",
    "axs[1].set_xlabel('temperature')\n",
    "axs[1].set_ylabel('CDF')\n",
    "axs[1].legend()\n",
    "\n",
    "df.groupby('gender')['temperature'].agg(['mean','std'])"
   ]
  },
  {
   "cell_type": "markdown",
   "metadata": {},
   "source": [
    "_Conclusion:  the distributions of male and female temperatures look different.  Men have slightly lower temperatures.  Standard deviations are similar._"
   ]
  },
  {
   "cell_type": "code",
   "execution_count": 15,
   "metadata": {},
   "outputs": [
    {
     "name": "stdout",
     "output_type": "stream",
     "text": [
      "0.0113\n"
     ]
    }
   ],
   "source": [
    "# First I'm going to conduct a permutation test:  What is the likelihood of seeing a difference in means \n",
    "# between males and females this large if data were drawn from the same population?  \n",
    "# Ho = male and female datasets have the same mean.\n",
    "\n",
    "def mean_diff(arr1,arr2):\n",
    "    return(np.mean(arr1)-np.mean(arr2))\n",
    "\n",
    "# difference in means in raw sample data\n",
    "obs_diff=mean_diff(mtemps,ftemps)\n",
    "\n",
    "# construct combined dataset\n",
    "combined_temps=np.concatenate((mtemps,ftemps))\n",
    "arr_lens=[len(mtemps),len(ftemps)]\n",
    "\n",
    "# function to run permutation samples\n",
    "def gen_permute(arr,lengths,func,n=10000):\n",
    "    result=np.empty(n)\n",
    "    for i in range(n):\n",
    "        #scramble arr\n",
    "        sarr=np.random.permutation(arr)\n",
    "        a=sarr[0:lengths[0]]\n",
    "        b=sarr[lengths[0]:]\n",
    "        result[i]=func(a,b)\n",
    "    return(result)\n",
    "\n",
    "res=gen_permute(combined_temps,arr_lens,mean_diff)\n",
    "\n",
    "# one-sided probability of seeing the observed difference by chance\n",
    "p = np.sum(res<obs_diff)/10000\n",
    "print(p)"
   ]
  },
  {
   "cell_type": "markdown",
   "metadata": {},
   "source": [
    "_The results suggest that there is a low probability of observing a dataset with this level of difference between male and female average temperature by chance if they were actually drawn from the same distribution. We reject Ho that the male and female datasets have the same mean._"
   ]
  },
  {
   "cell_type": "code",
   "execution_count": 16,
   "metadata": {},
   "outputs": [
    {
     "name": "stdout",
     "output_type": "stream",
     "text": [
      "0.0088\n"
     ]
    }
   ],
   "source": [
    "# Another approach:\n",
    "# Ho = male and female datasets have the same mean\n",
    "# Shift male and female samples to the combined sample mean\n",
    "# Bootstrap paired samples from shifted M/F datasets and tabulate differences between means \n",
    "\n",
    "# How likely is it to have a difference in means as large as that between the original M/F datasets?\n",
    "\n",
    "mean_all=np.mean(combined_temps) \n",
    "mtemps_shift=mtemps-np.mean(mtemps)+mean_all\n",
    "ftemps_shift=ftemps-np.mean(ftemps)+mean_all\n",
    "\n",
    "#bootstrap\n",
    "diff_repl = np.empty(10000)\n",
    "\n",
    "for i in range(10000):\n",
    "    mboot=np.random.choice(mtemps_shift,replace=True,size=len(mtemps_shift))\n",
    "    fboot=np.random.choice(ftemps_shift,replace=True,size=len(ftemps_shift))\n",
    "    diff_repl[i]=mean_diff(mboot,fboot)\n",
    "\n",
    "p = sum(diff_repl<obs_diff)/10000\n",
    "    \n",
    "print(p)"
   ]
  },
  {
   "cell_type": "markdown",
   "metadata": {},
   "source": [
    "_Bootstrap approach yields a similar result.  We reject Ho and conclude that men and women have different average temperatures.  This may explain why men always set the thermostat too low._"
   ]
  },
  {
   "cell_type": "code",
   "execution_count": null,
   "metadata": {},
   "outputs": [],
   "source": []
  },
  {
   "cell_type": "code",
   "execution_count": null,
   "metadata": {},
   "outputs": [],
   "source": []
  },
  {
   "cell_type": "code",
   "execution_count": null,
   "metadata": {},
   "outputs": [],
   "source": []
  },
  {
   "cell_type": "code",
   "execution_count": null,
   "metadata": {},
   "outputs": [],
   "source": []
  },
  {
   "cell_type": "code",
   "execution_count": null,
   "metadata": {},
   "outputs": [],
   "source": []
  },
  {
   "cell_type": "code",
   "execution_count": null,
   "metadata": {},
   "outputs": [],
   "source": [
    "# Different approach to question 3"
   ]
  },
  {
   "cell_type": "code",
   "execution_count": 17,
   "metadata": {},
   "outputs": [
    {
     "data": {
      "text/plain": [
       "0.0"
      ]
     },
     "execution_count": 17,
     "metadata": {},
     "output_type": "execute_result"
    }
   ],
   "source": [
    "# Bootstrap hypothesis test, non-parametric \n",
    "# Ho:  Mean of sample dataset is the same as the population dataset 98.6\n",
    "# Using convention from Data Camp:  test statistic is difference between mean and 98.6\n",
    "\n",
    "# shift dataset so mean is centered on 98.6\n",
    "x_bar=df['temperature'].mean()\n",
    "df['shifted'] = df['temperature'] - x_bar + 98.6\n",
    "\n",
    "#empirical difference\n",
    "ediff= x_bar-98.6\n",
    "\n",
    "#collect many bootstrap replicates from the shifted dataset\n",
    "\n",
    "bsn=100000\n",
    "reps=np.empty(bsn)\n",
    "for r in range(bsn):\n",
    "    bss=df['shifted'].sample(n=df.shape[0],replace=True)\n",
    "    reps[r]=bss.mean() - 98.6 #tabulate differences from 98.6\n",
    "\n",
    "# what percentage of the replicates have mean as far away from 98.6 as mean of original dataset?\n",
    "orig_delta=np.abs(ediff)\n",
    "np.sum(np.abs(reps)>=orig_delta)/bsn\n"
   ]
  }
 ],
 "metadata": {
  "kernelspec": {
   "display_name": "Python 3",
   "language": "python",
   "name": "python3"
  },
  "language_info": {
   "codemirror_mode": {
    "name": "ipython",
    "version": 3
   },
   "file_extension": ".py",
   "mimetype": "text/x-python",
   "name": "python",
   "nbconvert_exporter": "python",
   "pygments_lexer": "ipython3",
   "version": "3.7.1"
  }
 },
 "nbformat": 4,
 "nbformat_minor": 1
}
